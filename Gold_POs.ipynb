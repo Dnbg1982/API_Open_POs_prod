{
 "cells": [
  {
   "cell_type": "code",
   "execution_count": 1,
   "metadata": {},
   "outputs": [],
   "source": [
    "import pandas as pd\n",
    "import numpy as np\n",
    "import matplotlib.pyplot as plt\n",
    "import seaborn as sns\n",
    "from openpyxl import Workbook, load_workbook\n",
    "from openpyxl.utils import get_column_letter\n",
    "from datetime import datetime, timedelta, date\n",
    "import plotly.graph_objects as go\n",
    "import plotly.express as px\n",
    "import warnings\n",
    "warnings.filterwarnings('ignore')"
   ]
  },
  {
   "cell_type": "markdown",
   "metadata": {},
   "source": [
    "# RAW DATA SLB"
   ]
  },
  {
   "cell_type": "code",
   "execution_count": 3,
   "metadata": {},
   "outputs": [],
   "source": [
    "#SAP_raw = pd.read_excel(r'C:\\Users\\USUARIO\\Downloads\\Raw data Jan 18th.xlsx', sheet_name='Sap', parse_dates=True, \n",
    "#date_parser= (lambda x :pd.to_datetime(x, format='%m/%d/%Y ')))"
   ]
  },
  {
   "cell_type": "code",
   "execution_count": 4,
   "metadata": {},
   "outputs": [],
   "source": [
    "#SAP_raw = SAP_raw[['Field Purchase Order','Field PO Item','Material Number','Field PO Vendor','Field PO Date','Field PO Request Date(RDD)','HUB SO Process Class','Field PO GR Date']]"
   ]
  },
  {
   "cell_type": "code",
   "execution_count": 5,
   "metadata": {},
   "outputs": [],
   "source": [
    "#SAP_raw.info()"
   ]
  },
  {
   "cell_type": "code",
   "execution_count": 6,
   "metadata": {},
   "outputs": [],
   "source": [
    "Gold_data = pd.read_csv(r'C:\\Users\\USUARIO\\Downloads\\Gold Data.csv', index_col=0, encoding='latin-1', parse_dates=True)"
   ]
  },
  {
   "cell_type": "code",
   "execution_count": 7,
   "metadata": {},
   "outputs": [],
   "source": [
    "Gold_data = Gold_data.reset_index()"
   ]
  },
  {
   "cell_type": "code",
   "execution_count": 8,
   "metadata": {},
   "outputs": [],
   "source": [
    "Gold_data = Gold_data[['Field Purchase Order','Field PO Item','Material Number','Field PO Vendor','HUB SO Process Class','Field PO Date','Field PO Request Date(RDD)','OBS Creation Date HUB','ETA','Field PO GR Date']]"
   ]
  },
  {
   "cell_type": "code",
   "execution_count": 9,
   "metadata": {},
   "outputs": [],
   "source": [
    "Gold_data['Field PO Date'] = pd.to_datetime(Gold_data['Field PO Date']).values\n",
    "Gold_data['Field PO Request Date(RDD)'] = pd.to_datetime(Gold_data['Field PO Request Date(RDD)']).values\n",
    "Gold_data['OBS Creation Date HUB'] = pd.to_datetime(Gold_data['OBS Creation Date HUB']).values\n",
    "Gold_data['Field PO GR Date'] = pd.to_datetime(Gold_data['Field PO GR Date']).values"
   ]
  },
  {
   "cell_type": "code",
   "execution_count": 10,
   "metadata": {},
   "outputs": [],
   "source": [
    "Gold_data[['Field Purchase Order','Field PO Item']] = Gold_data[['Field Purchase Order','Field PO Item']].astype(str)"
   ]
  },
  {
   "cell_type": "markdown",
   "metadata": {},
   "source": [
    "#### GOLD GRs"
   ]
  },
  {
   "cell_type": "code",
   "execution_count": 11,
   "metadata": {},
   "outputs": [],
   "source": [
    "Gold_GRs = Gold_data[Gold_data['Field PO GR Date'].notnull()]\n",
    "Gold_GRs = Gold_data[Gold_data['Field PO Date'] > '2022-01-01']"
   ]
  },
  {
   "cell_type": "code",
   "execution_count": 12,
   "metadata": {},
   "outputs": [
    {
     "data": {
      "text/html": [
       "<div>\n",
       "<style scoped>\n",
       "    .dataframe tbody tr th:only-of-type {\n",
       "        vertical-align: middle;\n",
       "    }\n",
       "\n",
       "    .dataframe tbody tr th {\n",
       "        vertical-align: top;\n",
       "    }\n",
       "\n",
       "    .dataframe thead th {\n",
       "        text-align: right;\n",
       "    }\n",
       "</style>\n",
       "<table border=\"1\" class=\"dataframe\">\n",
       "  <thead>\n",
       "    <tr style=\"text-align: right;\">\n",
       "      <th></th>\n",
       "      <th>Field Purchase Order</th>\n",
       "      <th>Field PO Item</th>\n",
       "      <th>Material Number</th>\n",
       "      <th>Field PO Vendor</th>\n",
       "      <th>HUB SO Process Class</th>\n",
       "      <th>Field PO Date</th>\n",
       "      <th>Field PO Request Date(RDD)</th>\n",
       "      <th>OBS Creation Date HUB</th>\n",
       "      <th>ETA</th>\n",
       "      <th>Field PO GR Date</th>\n",
       "    </tr>\n",
       "  </thead>\n",
       "  <tbody>\n",
       "    <tr>\n",
       "      <th>1278</th>\n",
       "      <td>4581174664</td>\n",
       "      <td>1</td>\n",
       "      <td>100860406</td>\n",
       "      <td>P9024</td>\n",
       "      <td>BO</td>\n",
       "      <td>2022-01-04</td>\n",
       "      <td>2022-07-31</td>\n",
       "      <td>2022-07-12</td>\n",
       "      <td>30-Jul-22</td>\n",
       "      <td>2022-08-06</td>\n",
       "    </tr>\n",
       "    <tr>\n",
       "      <th>1279</th>\n",
       "      <td>4581174664</td>\n",
       "      <td>1</td>\n",
       "      <td>100860406</td>\n",
       "      <td>P9024</td>\n",
       "      <td>BO</td>\n",
       "      <td>2022-01-04</td>\n",
       "      <td>2022-07-31</td>\n",
       "      <td>2022-07-12</td>\n",
       "      <td>30-Jul-22</td>\n",
       "      <td>2022-08-06</td>\n",
       "    </tr>\n",
       "    <tr>\n",
       "      <th>1280</th>\n",
       "      <td>4581174665</td>\n",
       "      <td>2</td>\n",
       "      <td>100006697</td>\n",
       "      <td>P9024</td>\n",
       "      <td>BO</td>\n",
       "      <td>2022-01-04</td>\n",
       "      <td>2022-12-25</td>\n",
       "      <td>2022-12-05</td>\n",
       "      <td>3-Jan-23</td>\n",
       "      <td>2023-01-07</td>\n",
       "    </tr>\n",
       "  </tbody>\n",
       "</table>\n",
       "</div>"
      ],
      "text/plain": [
       "     Field Purchase Order Field PO Item Material Number Field PO Vendor  \\\n",
       "1278           4581174664             1       100860406           P9024   \n",
       "1279           4581174664             1       100860406           P9024   \n",
       "1280           4581174665             2       100006697           P9024   \n",
       "\n",
       "     HUB SO Process Class Field PO Date Field PO Request Date(RDD)  \\\n",
       "1278                   BO    2022-01-04                 2022-07-31   \n",
       "1279                   BO    2022-01-04                 2022-07-31   \n",
       "1280                   BO    2022-01-04                 2022-12-25   \n",
       "\n",
       "     OBS Creation Date HUB        ETA Field PO GR Date  \n",
       "1278            2022-07-12  30-Jul-22       2022-08-06  \n",
       "1279            2022-07-12  30-Jul-22       2022-08-06  \n",
       "1280            2022-12-05   3-Jan-23       2023-01-07  "
      ]
     },
     "execution_count": 12,
     "metadata": {},
     "output_type": "execute_result"
    }
   ],
   "source": [
    "Gold_GRs.head(3)"
   ]
  },
  {
   "cell_type": "code",
   "execution_count": 13,
   "metadata": {},
   "outputs": [],
   "source": [
    "Gold_GRs.drop(['Field PO Request Date(RDD)','ETA'], axis=1, inplace=True)"
   ]
  },
  {
   "cell_type": "code",
   "execution_count": 14,
   "metadata": {},
   "outputs": [],
   "source": [
    "Gold_GRs.dropna(axis=0, inplace=True)"
   ]
  },
  {
   "cell_type": "code",
   "execution_count": 15,
   "metadata": {},
   "outputs": [],
   "source": [
    "Gold_GRs['hub_time_d'] = Gold_GRs['OBS Creation Date HUB'] - Gold_GRs['Field PO Date']\n",
    "Gold_GRs['lead_time_d'] = Gold_GRs['Field PO GR Date'] - Gold_GRs['Field PO Date'] "
   ]
  },
  {
   "cell_type": "code",
   "execution_count": 16,
   "metadata": {},
   "outputs": [],
   "source": [
    "Gold_GRs['hub_time_d'] = Gold_GRs.hub_time_d.dt.days\n",
    "Gold_GRs['lead_time_d'] = Gold_GRs.lead_time_d.dt.days"
   ]
  },
  {
   "cell_type": "code",
   "execution_count": 17,
   "metadata": {},
   "outputs": [
    {
     "data": {
      "image/png": "[encoded data removed]",
      "text/plain": [
       "<Figure size 1000x500 with 2 Axes>"
      ]
     },
     "metadata": {},
     "output_type": "display_data"
    }
   ],
   "source": [
    "fig, (ax1,ax2) = plt.subplots(1,2,figsize=(10,5))\n",
    "\n",
    "ax1.pie(Gold_GRs.groupby(by=['HUB SO Process Class']).mean()['hub_time_d'], autopct='%.2f')\n",
    "ax2.pie(Gold_GRs.groupby(by=['HUB SO Process Class']).mean()['lead_time_d'], autopct='%.2f')\n",
    "\n",
    "ax1.set_ylabel('HUB Time Days', fontsize=14)\n",
    "ax2.set_ylabel('Lead Time Days', fontsize=14)\n",
    "\n",
    "fig.legend(Gold_GRs['HUB SO Process Class'].unique())\n",
    "fig.suptitle('MEAN TIME DAYS BS vs. BO')\n",
    "\n",
    "plt.show()"
   ]
  },
  {
   "cell_type": "code",
   "execution_count": 18,
   "metadata": {},
   "outputs": [
    {
     "data": {
      "image/png": "[encoded data removed]",
      "text/plain": [
       "<Figure size 1500x600 with 1 Axes>"
      ]
     },
     "metadata": {},
     "output_type": "display_data"
    }
   ],
   "source": [
    "x = Gold_GRs['Field PO Vendor'].unique()\n",
    "\n",
    "plt.style.use('fivethirtyeight')\n",
    "plt.figure(figsize=(15,6))\n",
    "p1 = plt.bar(x, Gold_GRs.groupby(by='Field PO Vendor').mean()['lead_time_d'])\n",
    "p2 = plt.bar(x, Gold_GRs.groupby(by='Field PO Vendor').mean()['hub_time_d'])\n",
    "plt.xlabel(\"Vendors\")\n",
    "plt.ylabel(\"Avg_Days\")\n",
    "plt.xticks(rotation=90)\n",
    "plt.legend((p1[0],p2[0]), ('Lead Time', 'Hub Time'))\n",
    "plt.show()"
   ]
  },
  {
   "cell_type": "markdown",
   "metadata": {},
   "source": [
    "### No ETA POs"
   ]
  },
  {
   "cell_type": "code",
   "execution_count": 56,
   "metadata": {},
   "outputs": [],
   "source": [
    "POs_no_ETA = Gold_data.drop(['OBS Creation Date HUB', 'Field PO Request Date(RDD)'], axis=1)"
   ]
  },
  {
   "cell_type": "code",
   "execution_count": 57,
   "metadata": {},
   "outputs": [],
   "source": [
    "POs_no_ETA = POs_no_ETA[POs_no_ETA['Field PO GR Date'].isna()]\n",
    "POs_no_ETA = POs_no_ETA[POs_no_ETA['ETA'].isna()]"
   ]
  },
  {
   "cell_type": "code",
   "execution_count": 58,
   "metadata": {},
   "outputs": [],
   "source": [
    "POs_no_ETA['current_date'] = pd.to_datetime(date.today())\n",
    "POs_no_ETA.drop(['ETA', 'Field PO GR Date'], axis=1, inplace=True)"
   ]
  },
  {
   "cell_type": "code",
   "execution_count": 59,
   "metadata": {},
   "outputs": [],
   "source": [
    "POs_no_ETA['elapsed_time'] = POs_no_ETA.current_date - POs_no_ETA['Field PO Date']"
   ]
  },
  {
   "cell_type": "code",
   "execution_count": 60,
   "metadata": {},
   "outputs": [],
   "source": [
    "POs_no_ETA['elap_time_days'] = POs_no_ETA.elapsed_time.dt.days"
   ]
  },
  {
   "cell_type": "code",
   "execution_count": 24,
   "metadata": {},
   "outputs": [],
   "source": [
    "#POs_no_ETA =  POs_no_ETA[POs_no_ETA['Field PO Date'] > '2022-01-01']"
   ]
  },
  {
   "cell_type": "code",
   "execution_count": 25,
   "metadata": {},
   "outputs": [
    {
     "data": {
      "application/vnd.plotly.v1+json": {
       "config": {
        "plotlyServerURL": "https://plot.ly"
       },
       "data": [
        {
         "branchvalues": "total",
         "customdata": [
          [
           1
          ],
          [
           2
          ],
          [
           3
          ],
          [
           3.0000000000000004
          ],
          [
           5
          ],
          [
           12
          ],
          [
           13
          ],
          [
           24
          ],
          [
           26
          ],
          [
           28
          ],
          [
           37
          ],
          [
           68
          ],
          [
           147
          ],
          [
           190
          ],
          [
           191
          ],
          [
           715.0000000000001
          ],
          [
           1776
          ],
          [
           37
          ],
          [
           715.0000000000001
          ],
          [
           12
          ],
          [
           1776
          ],
          [
           147
          ],
          [
           3
          ],
          [
           26
          ],
          [
           68
          ],
          [
           191
          ],
          [
           24
          ],
          [
           1
          ],
          [
           5
          ],
          [
           190
          ],
          [
           3.0000000000000004
          ],
          [
           28
          ],
          [
           13
          ],
          [
           2
          ],
          [
           194.29147291472918
          ]
         ],
         "domain": {
          "x": [
           0,
           1
          ],
          "y": [
           0,
           1
          ]
         },
         "hovertemplate": "labels=%{label}<br>value=%{value}<br>parent=%{parent}<br>id=%{id}<br>numPOs=%{color}<extra></extra>",
         "ids": [
          "All POs/P9109/1",
          "All POs/P9545/2",
          "All POs/P9026/3",
          "All POs/P9511/3",
          "All POs/P9501/5",
          "All POs/P9017/12",
          "All POs/P9544/13",
          "All POs/P9095/24",
          "All POs/P9029/26",
          "All POs/P9513/28",
          "All POs/P9015/37",
          "All POs/P9030/68",
          "All POs/P9025/147",
          "All POs/P9509/190",
          "All POs/P9043/191",
          "All POs/P9016/715",
          "All POs/P9024/1776",
          "All POs/P9015",
          "All POs/P9016",
          "All POs/P9017",
          "All POs/P9024",
          "All POs/P9025",
          "All POs/P9026",
          "All POs/P9029",
          "All POs/P9030",
          "All POs/P9043",
          "All POs/P9095",
          "All POs/P9109",
          "All POs/P9501",
          "All POs/P9509",
          "All POs/P9511",
          "All POs/P9513",
          "All POs/P9544",
          "All POs/P9545",
          "All POs"
         ],
         "labels": [
          "1",
          "2",
          "3",
          "3",
          "5",
          "12",
          "13",
          "24",
          "26",
          "28",
          "37",
          "68",
          "147",
          "190",
          "191",
          "715",
          "1776",
          "P9015",
          "P9016",
          "P9017",
          "P9024",
          "P9025",
          "P9026",
          "P9029",
          "P9030",
          "P9043",
          "P9095",
          "P9109",
          "P9501",
          "P9509",
          "P9511",
          "P9513",
          "P9544",
          "P9545",
          "All POs"
         ],
         "marker": {
          "coloraxis": "coloraxis",
          "colors": [
           1,
           2,
           3,
           3.0000000000000004,
           5,
           12,
           13,
           24,
           26,
           28,
           37,
           68,
           147,
           190,
           191,
           715.0000000000001,
           1776,
           37,
           715.0000000000001,
           12,
           1776,
           147,
           3,
           26,
           68,
           191,
           24,
           1,
           5,
           190,
           3.0000000000000004,
           28,
           13,
           2,
           194.29147291472918
          ]
         },
         "name": "",
         "parents": [
          "All POs/P9109",
          "All POs/P9545",
          "All POs/P9026",
          "All POs/P9511",
          "All POs/P9501",
          "All POs/P9017",
          "All POs/P9544",
          "All POs/P9095",
          "All POs/P9029",
          "All POs/P9513",
          "All POs/P9015",
          "All POs/P9030",
          "All POs/P9025",
          "All POs/P9509",
          "All POs/P9043",
          "All POs/P9016",
          "All POs/P9024",
          "All POs",
          "All POs",
          "All POs",
          "All POs",
          "All POs",
          "All POs",
          "All POs",
          "All POs",
          "All POs",
          "All POs",
          "All POs",
          "All POs",
          "All POs",
          "All POs",
          "All POs",
          "All POs",
          "All POs",
          ""
         ],
         "textinfo": "label+value",
         "type": "treemap",
         "values": [
          30,
          325.5,
          65,
          62.33,
          99.4,
          132,
          78.62,
          86.33,
          72.42,
          145.18,
          107.35,
          80.12,
          156.07,
          152.72,
          180.21,
          115.06,
          111.67,
          107.35,
          115.06,
          132,
          111.67,
          156.07,
          65,
          72.42,
          80.12,
          180.21,
          86.33,
          30,
          99.4,
          152.72,
          62.33,
          145.18,
          78.62,
          325.5,
          1999.98
         ]
        }
       ],
       "layout": {
        "coloraxis": {
         "colorbar": {
          "title": {
           "text": "numPOs"
          }
         },
         "colorscale": [
          [
           0,
           "rgb(103,0,31)"
          ],
          [
           0.1,
           "rgb(178,24,43)"
          ],
          [
           0.2,
           "rgb(214,96,77)"
          ],
          [
           0.3,
           "rgb(244,165,130)"
          ],
          [
           0.4,
           "rgb(253,219,199)"
          ],
          [
           0.5,
           "rgb(247,247,247)"
          ],
          [
           0.6,
           "rgb(209,229,240)"
          ],
          [
           0.7,
           "rgb(146,197,222)"
          ],
          [
           0.8,
           "rgb(67,147,195)"
          ],
          [
           0.9,
           "rgb(33,102,172)"
          ],
          [
           1,
           "rgb(5,48,97)"
          ]
         ]
        },
        "legend": {
         "tracegroupgap": 0
        },
        "margin": {
         "b": 25,
         "l": 25,
         "r": 25,
         "t": 50
        },
        "template": {
         "data": {
          "bar": [
           {
            "error_x": {
             "color": "#2a3f5f"
            },
            "error_y": {
             "color": "#2a3f5f"
            },
            "marker": {
             "line": {
              "color": "#E5ECF6",
              "width": 0.5
             },
             "pattern": {
              "fillmode": "overlay",
              "size": 10,
              "solidity": 0.2
             }
            },
            "type": "bar"
           }
          ],
          "barpolar": [
           {
            "marker": {
             "line": {
              "color": "#E5ECF6",
              "width": 0.5
             },
             "pattern": {
              "fillmode": "overlay",
              "size": 10,
              "solidity": 0.2
             }
            },
            "type": "barpolar"
           }
          ],
          "carpet": [
           {
            "aaxis": {
             "endlinecolor": "#2a3f5f",
             "gridcolor": "white",
             "linecolor": "white",
             "minorgridcolor": "white",
             "startlinecolor": "#2a3f5f"
            },
            "baxis": {
             "endlinecolor": "#2a3f5f",
             "gridcolor": "white",
             "linecolor": "white",
             "minorgridcolor": "white",
             "startlinecolor": "#2a3f5f"
            },
            "type": "carpet"
           }
          ],
          "choropleth": [
           {
            "colorbar": {
             "outlinewidth": 0,
             "ticks": ""
            },
            "type": "choropleth"
           }
          ],
          "contour": [
           {
            "colorbar": {
             "outlinewidth": 0,
             "ticks": ""
            },
            "colorscale": [
             [
              0,
              "#0d0887"
             ],
             [
              0.1111111111111111,
              "#46039f"
             ],
             [
              0.2222222222222222,
              "#7201a8"
             ],
             [
              0.3333333333333333,
              "#9c179e"
             ],
             [
              0.4444444444444444,
              "#bd3786"
             ],
             [
              0.5555555555555556,
              "#d8576b"
             ],
             [
              0.6666666666666666,
              "#ed7953"
             ],
             [
              0.7777777777777778,
              "#fb9f3a"
             ],
             [
              0.8888888888888888,
              "#fdca26"
             ],
             [
              1,
              "#f0f921"
             ]
            ],
            "type": "contour"
           }
          ],
          "contourcarpet": [
           {
            "colorbar": {
             "outlinewidth": 0,
             "ticks": ""
            },
            "type": "contourcarpet"
           }
          ],
          "heatmap": [
           {
            "colorbar": {
             "outlinewidth": 0,
             "ticks": ""
            },
            "colorscale": [
             [
              0,
              "#0d0887"
             ],
             [
              0.1111111111111111,
              "#46039f"
             ],
             [
              0.2222222222222222,
              "#7201a8"
             ],
             [
              0.3333333333333333,
              "#9c179e"
             ],
             [
              0.4444444444444444,
              "#bd3786"
             ],
             [
              0.5555555555555556,
              "#d8576b"
             ],
             [
              0.6666666666666666,
              "#ed7953"
             ],
             [
              0.7777777777777778,
              "#fb9f3a"
             ],
             [
              0.8888888888888888,
              "#fdca26"
             ],
             [
              1,
              "#f0f921"
             ]
            ],
            "type": "heatmap"
           }
          ],
          "heatmapgl": [
           {
            "colorbar": {
             "outlinewidth": 0,
             "ticks": ""
            },
            "colorscale": [
             [
              0,
              "#0d0887"
             ],
             [
              0.1111111111111111,
              "#46039f"
             ],
             [
              0.2222222222222222,
              "#7201a8"
             ],
             [
              0.3333333333333333,
              "#9c179e"
             ],
             [
              0.4444444444444444,
              "#bd3786"
             ],
             [
              0.5555555555555556,
              "#d8576b"
             ],
             [
              0.6666666666666666,
              "#ed7953"
             ],
             [
              0.7777777777777778,
              "#fb9f3a"
             ],
             [
              0.8888888888888888,
              "#fdca26"
             ],
             [
              1,
              "#f0f921"
             ]
            ],
            "type": "heatmapgl"
           }
          ],
          "histogram": [
           {
            "marker": {
             "pattern": {
              "fillmode": "overlay",
              "size": 10,
              "solidity": 0.2
             }
            },
            "type": "histogram"
           }
          ],
          "histogram2d": [
           {
            "colorbar": {
             "outlinewidth": 0,
             "ticks": ""
            },
            "colorscale": [
             [
              0,
              "#0d0887"
             ],
             [
              0.1111111111111111,
              "#46039f"
             ],
             [
              0.2222222222222222,
              "#7201a8"
             ],
             [
              0.3333333333333333,
              "#9c179e"
             ],
             [
              0.4444444444444444,
              "#bd3786"
             ],
             [
              0.5555555555555556,
              "#d8576b"
             ],
             [
              0.6666666666666666,
              "#ed7953"
             ],
             [
              0.7777777777777778,
              "#fb9f3a"
             ],
             [
              0.8888888888888888,
              "#fdca26"
             ],
             [
              1,
              "#f0f921"
             ]
            ],
            "type": "histogram2d"
           }
          ],
          "histogram2dcontour": [
           {
            "colorbar": {
             "outlinewidth": 0,
             "ticks": ""
            },
            "colorscale": [
             [
              0,
              "#0d0887"
             ],
             [
              0.1111111111111111,
              "#46039f"
             ],
             [
              0.2222222222222222,
              "#7201a8"
             ],
             [
              0.3333333333333333,
              "#9c179e"
             ],
             [
              0.4444444444444444,
              "#bd3786"
             ],
             [
              0.5555555555555556,
              "#d8576b"
             ],
             [
              0.6666666666666666,
              "#ed7953"
             ],
             [
              0.7777777777777778,
              "#fb9f3a"
             ],
             [
              0.8888888888888888,
              "#fdca26"
             ],
             [
              1,
              "#f0f921"
             ]
            ],
            "type": "histogram2dcontour"
           }
          ],
          "mesh3d": [
           {
            "colorbar": {
             "outlinewidth": 0,
             "ticks": ""
            },
            "type": "mesh3d"
           }
          ],
          "parcoords": [
           {
            "line": {
             "colorbar": {
              "outlinewidth": 0,
              "ticks": ""
             }
            },
            "type": "parcoords"
           }
          ],
          "pie": [
           {
            "automargin": true,
            "type": "pie"
           }
          ],
          "scatter": [
           {
            "fillpattern": {
             "fillmode": "overlay",
             "size": 10,
             "solidity": 0.2
            },
            "type": "scatter"
           }
          ],
          "scatter3d": [
           {
            "line": {
             "colorbar": {
              "outlinewidth": 0,
              "ticks": ""
             }
            },
            "marker": {
             "colorbar": {
              "outlinewidth": 0,
              "ticks": ""
             }
            },
            "type": "scatter3d"
           }
          ],
          "scattercarpet": [
           {
            "marker": {
             "colorbar": {
              "outlinewidth": 0,
              "ticks": ""
             }
            },
            "type": "scattercarpet"
           }
          ],
          "scattergeo": [
           {
            "marker": {
             "colorbar": {
              "outlinewidth": 0,
              "ticks": ""
             }
            },
            "type": "scattergeo"
           }
          ],
          "scattergl": [
           {
            "marker": {
             "colorbar": {
              "outlinewidth": 0,
              "ticks": ""
             }
            },
            "type": "scattergl"
           }
          ],
          "scattermapbox": [
           {
            "marker": {
             "colorbar": {
              "outlinewidth": 0,
              "ticks": ""
             }
            },
            "type": "scattermapbox"
           }
          ],
          "scatterpolar": [
           {
            "marker": {
             "colorbar": {
              "outlinewidth": 0,
              "ticks": ""
             }
            },
            "type": "scatterpolar"
           }
          ],
          "scatterpolargl": [
           {
            "marker": {
             "colorbar": {
              "outlinewidth": 0,
              "ticks": ""
             }
            },
            "type": "scatterpolargl"
           }
          ],
          "scatterternary": [
           {
            "marker": {
             "colorbar": {
              "outlinewidth": 0,
              "ticks": ""
             }
            },
            "type": "scatterternary"
           }
          ],
          "surface": [
           {
            "colorbar": {
             "outlinewidth": 0,
             "ticks": ""
            },
            "colorscale": [
             [
              0,
              "#0d0887"
             ],
             [
              0.1111111111111111,
              "#46039f"
             ],
             [
              0.2222222222222222,
              "#7201a8"
             ],
             [
              0.3333333333333333,
              "#9c179e"
             ],
             [
              0.4444444444444444,
              "#bd3786"
             ],
             [
              0.5555555555555556,
              "#d8576b"
             ],
             [
              0.6666666666666666,
              "#ed7953"
             ],
             [
              0.7777777777777778,
              "#fb9f3a"
             ],
             [
              0.8888888888888888,
              "#fdca26"
             ],
             [
              1,
              "#f0f921"
             ]
            ],
            "type": "surface"
           }
          ],
          "table": [
           {
            "cells": {
             "fill": {
              "color": "#EBF0F8"
             },
             "line": {
              "color": "white"
             }
            },
            "header": {
             "fill": {
              "color": "#C8D4E3"
             },
             "line": {
              "color": "white"
             }
            },
            "type": "table"
           }
          ]
         },
         "layout": {
          "annotationdefaults": {
           "arrowcolor": "#2a3f5f",
           "arrowhead": 0,
           "arrowwidth": 1
          },
          "autotypenumbers": "strict",
          "coloraxis": {
           "colorbar": {
            "outlinewidth": 0,
            "ticks": ""
           }
          },
          "colorscale": {
           "diverging": [
            [
             0,
             "#8e0152"
            ],
            [
             0.1,
             "#c51b7d"
            ],
            [
             0.2,
             "#de77ae"
            ],
            [
             0.3,
             "#f1b6da"
            ],
            [
             0.4,
             "#fde0ef"
            ],
            [
             0.5,
             "#f7f7f7"
            ],
            [
             0.6,
             "#e6f5d0"
            ],
            [
             0.7,
             "#b8e186"
            ],
            [
             0.8,
             "#7fbc41"
            ],
            [
             0.9,
             "#4d9221"
            ],
            [
             1,
             "#276419"
            ]
           ],
           "sequential": [
            [
             0,
             "#0d0887"
            ],
            [
             0.1111111111111111,
             "#46039f"
            ],
            [
             0.2222222222222222,
             "#7201a8"
            ],
            [
             0.3333333333333333,
             "#9c179e"
            ],
            [
             0.4444444444444444,
             "#bd3786"
            ],
            [
             0.5555555555555556,
             "#d8576b"
            ],
            [
             0.6666666666666666,
             "#ed7953"
            ],
            [
             0.7777777777777778,
             "#fb9f3a"
            ],
            [
             0.8888888888888888,
             "#fdca26"
            ],
            [
             1,
             "#f0f921"
            ]
           ],
           "sequentialminus": [
            [
             0,
             "#0d0887"
            ],
            [
             0.1111111111111111,
             "#46039f"
            ],
            [
             0.2222222222222222,
             "#7201a8"
            ],
            [
             0.3333333333333333,
             "#9c179e"
            ],
            [
             0.4444444444444444,
             "#bd3786"
            ],
            [
             0.5555555555555556,
             "#d8576b"
            ],
            [
             0.6666666666666666,
             "#ed7953"
            ],
            [
             0.7777777777777778,
             "#fb9f3a"
            ],
            [
             0.8888888888888888,
             "#fdca26"
            ],
            [
             1,
             "#f0f921"
            ]
           ]
          },
          "colorway": [
           "#636efa",
           "#EF553B",
           "#00cc96",
           "#ab63fa",
           "#FFA15A",
           "#19d3f3",
           "#FF6692",
           "#B6E880",
           "#FF97FF",
           "#FECB52"
          ],
          "font": {
           "color": "#2a3f5f"
          },
          "geo": {
           "bgcolor": "white",
           "lakecolor": "white",
           "landcolor": "#E5ECF6",
           "showlakes": true,
           "showland": true,
           "subunitcolor": "white"
          },
          "hoverlabel": {
           "align": "left"
          },
          "hovermode": "closest",
          "mapbox": {
           "style": "light"
          },
          "paper_bgcolor": "white",
          "plot_bgcolor": "#E5ECF6",
          "polar": {
           "angularaxis": {
            "gridcolor": "white",
            "linecolor": "white",
            "ticks": ""
           },
           "bgcolor": "#E5ECF6",
           "radialaxis": {
            "gridcolor": "white",
            "linecolor": "white",
            "ticks": ""
           }
          },
          "scene": {
           "xaxis": {
            "backgroundcolor": "#E5ECF6",
            "gridcolor": "white",
            "gridwidth": 2,
            "linecolor": "white",
            "showbackground": true,
            "ticks": "",
            "zerolinecolor": "white"
           },
           "yaxis": {
            "backgroundcolor": "#E5ECF6",
            "gridcolor": "white",
            "gridwidth": 2,
            "linecolor": "white",
            "showbackground": true,
            "ticks": "",
            "zerolinecolor": "white"
           },
           "zaxis": {
            "backgroundcolor": "#E5ECF6",
            "gridcolor": "white",
            "gridwidth": 2,
            "linecolor": "white",
            "showbackground": true,
            "ticks": "",
            "zerolinecolor": "white"
           }
          },
          "shapedefaults": {
           "line": {
            "color": "#2a3f5f"
           }
          },
          "ternary": {
           "aaxis": {
            "gridcolor": "white",
            "linecolor": "white",
            "ticks": ""
           },
           "baxis": {
            "gridcolor": "white",
            "linecolor": "white",
            "ticks": ""
           },
           "bgcolor": "#E5ECF6",
           "caxis": {
            "gridcolor": "white",
            "linecolor": "white",
            "ticks": ""
           }
          },
          "title": {
           "x": 0.05
          },
          "xaxis": {
           "automargin": true,
           "gridcolor": "white",
           "linecolor": "white",
           "ticks": "",
           "title": {
            "standoff": 15
           },
           "zerolinecolor": "white",
           "zerolinewidth": 2
          },
          "yaxis": {
           "automargin": true,
           "gridcolor": "white",
           "linecolor": "white",
           "ticks": "",
           "title": {
            "standoff": 15
           },
           "zerolinecolor": "white",
           "zerolinewidth": 2
          }
         }
        }
       }
      }
     },
     "metadata": {},
     "output_type": "display_data"
    }
   ],
   "source": [
    "values = round(POs_no_ETA.groupby(by=['Field PO Vendor']).mean()['elap_time_days'],2)\n",
    "\n",
    "df = POs_no_ETA.groupby(by=['Field PO Vendor']).count().reset_index()\n",
    "df = df.rename({'Field Purchase Order':'numPOs'}, axis=1)\n",
    "\n",
    "fig = px.treemap(df, path=[px.Constant(\"All POs\"), 'Field PO Vendor',round(POs_no_ETA.groupby(by=['Field PO Vendor']).count()['elap_time_days'],2)], \n",
    "                 values=values, color_continuous_scale='RdBu', color='numPOs')\n",
    "fig.update_layout(margin = dict(t=50, l=25, r=25, b=25))\n",
    "fig.data[0].textinfo='label+value'\n",
    "fig.show()"
   ]
  },
  {
   "cell_type": "code",
   "execution_count": 26,
   "metadata": {},
   "outputs": [
    {
     "data": {
      "application/vnd.plotly.v1+json": {
       "config": {
        "plotlyServerURL": "https://plot.ly"
       },
       "data": [
        {
         "alignmentgroup": "True",
         "bingroup": "x",
         "hovertemplate": "Field PO Vendor=P9025<br>elap_time_days=%{x}<br>count=%{y}<extra></extra>",
         "legendgroup": "P9025",
         "marker": {
          "color": "#636efa",
          "pattern": {
           "shape": ""
          }
         },
         "name": "P9025",
         "nbinsx": 16,
         "offsetgroup": "P9025",
         "opacity": 0.9,
         "orientation": "v",
         "showlegend": true,
         "texttemplate": "%{value}",
         "type": "histogram",
         "x": [
          394,
          365,
          331,
          266,
          247,
          247,
          219,
          216,
          216,
          189,
          385,
          385,
          385,
          385,
          385,
          385,
          385,
          385,
          385,
          385,
          385,
          385,
          380,
          380,
          380,
          380,
          375,
          375,
          375,
          375,
          375,
          375,
          359,
          324,
          324,
          324,
          324,
          324,
          324,
          186,
          186
         ],
         "xaxis": "x",
         "yaxis": "y"
        },
        {
         "alignmentgroup": "True",
         "bingroup": "x",
         "hovertemplate": "Field PO Vendor=P9024<br>elap_time_days=%{x}<br>count=%{y}<extra></extra>",
         "legendgroup": "P9024",
         "marker": {
          "color": "#EF553B",
          "pattern": {
           "shape": ""
          }
         },
         "name": "P9024",
         "nbinsx": 16,
         "offsetgroup": "P9024",
         "opacity": 0.9,
         "orientation": "v",
         "showlegend": true,
         "texttemplate": "%{value}",
         "type": "histogram",
         "x": [
          392,
          386,
          386,
          381,
          374,
          371,
          367,
          366,
          359,
          350,
          344,
          340,
          336,
          334,
          331,
          325,
          325,
          325,
          325,
          325,
          325,
          323,
          322,
          310,
          310,
          310,
          310,
          310,
          304,
          304,
          304,
          304,
          304,
          300,
          297,
          297,
          296,
          296,
          295,
          295,
          295,
          289,
          283,
          281,
          279,
          275,
          274,
          274,
          274,
          274,
          274,
          269,
          268,
          268,
          266,
          261,
          256,
          250,
          250,
          248,
          248,
          248,
          247,
          244,
          243,
          243,
          241,
          238,
          238,
          238,
          237,
          234,
          232,
          232,
          232,
          221,
          221,
          219,
          218,
          218,
          218,
          218,
          218,
          218,
          218,
          218,
          218,
          218,
          218,
          218,
          218,
          218,
          218,
          218,
          218,
          218,
          218,
          216,
          216,
          216,
          216,
          216,
          216,
          216,
          215,
          214,
          214,
          213,
          213,
          213,
          211,
          211,
          211,
          211,
          211,
          211,
          210,
          210,
          210,
          209,
          206,
          206,
          196,
          193,
          189,
          184,
          184,
          184,
          402,
          393,
          393,
          389,
          382,
          382,
          382,
          382,
          368,
          368,
          367,
          366,
          364,
          364,
          364,
          361,
          361,
          354,
          346,
          345,
          338,
          338,
          338,
          337,
          337,
          337,
          337,
          317,
          317,
          317,
          316,
          310,
          309,
          305,
          305,
          304,
          304,
          304,
          298,
          297,
          289,
          283,
          283,
          282,
          276,
          276,
          276,
          276,
          275,
          275,
          274,
          274,
          271,
          270,
          269,
          269,
          269,
          269,
          269,
          269,
          269,
          269,
          269,
          269,
          261,
          261,
          261,
          255,
          255,
          255,
          255,
          255,
          255,
          255,
          255,
          255,
          255,
          255,
          255,
          255,
          255,
          255,
          255,
          255,
          255,
          255,
          255,
          255,
          255,
          255,
          255,
          255,
          255,
          255,
          255,
          255,
          255,
          255,
          255,
          255,
          255,
          255,
          255,
          255,
          255,
          255,
          255,
          255,
          255,
          255,
          255,
          255,
          255,
          255,
          255,
          255,
          255,
          255,
          255,
          255,
          255,
          255,
          255,
          255,
          255,
          255,
          255,
          255,
          255,
          255,
          255,
          255,
          255,
          255,
          255,
          255,
          255,
          255,
          255,
          255,
          255,
          255,
          255,
          255,
          255,
          255,
          255,
          255,
          255,
          255,
          255,
          254,
          254,
          245,
          245,
          242,
          242,
          242,
          242,
          242,
          240,
          240,
          240,
          238,
          236,
          236,
          236,
          236,
          232,
          212,
          212,
          227,
          226,
          226,
          226,
          226,
          226,
          226,
          220,
          218,
          214,
          213,
          213,
          213,
          211,
          210,
          210,
          210,
          210,
          210,
          210,
          210,
          210,
          206,
          205,
          205,
          205,
          205,
          205,
          205,
          205,
          200,
          197,
          196,
          193,
          192,
          192,
          192,
          190,
          190,
          189,
          189,
          189,
          189,
          186,
          185,
          185,
          185,
          185,
          185,
          183,
          182
         ],
         "xaxis": "x",
         "yaxis": "y"
        },
        {
         "alignmentgroup": "True",
         "bingroup": "x",
         "hovertemplate": "Field PO Vendor=P9509<br>elap_time_days=%{x}<br>count=%{y}<extra></extra>",
         "legendgroup": "P9509",
         "marker": {
          "color": "#00cc96",
          "pattern": {
           "shape": ""
          }
         },
         "name": "P9509",
         "nbinsx": 16,
         "offsetgroup": "P9509",
         "opacity": 0.9,
         "orientation": "v",
         "showlegend": true,
         "texttemplate": "%{value}",
         "type": "histogram",
         "x": [
          390,
          372,
          361,
          329,
          303,
          303,
          303,
          303,
          275,
          266,
          266,
          266,
          248,
          248,
          248,
          247,
          245,
          245,
          219,
          217,
          189,
          186,
          186,
          394,
          394,
          394,
          394,
          394,
          394,
          394,
          394,
          394,
          394,
          394,
          394,
          394,
          394,
          394,
          394,
          394,
          394,
          394,
          394,
          394,
          394,
          394,
          394,
          394,
          394,
          394,
          394,
          394,
          394,
          394,
          394,
          385,
          340,
          330,
          318,
          318,
          299,
          262,
          262,
          262,
          217,
          199,
          199,
          199,
          199,
          199,
          199
         ],
         "xaxis": "x",
         "yaxis": "y"
        },
        {
         "alignmentgroup": "True",
         "bingroup": "x",
         "hovertemplate": "Field PO Vendor=P9043<br>elap_time_days=%{x}<br>count=%{y}<extra></extra>",
         "legendgroup": "P9043",
         "marker": {
          "color": "#ab63fa",
          "pattern": {
           "shape": ""
          }
         },
         "name": "P9043",
         "nbinsx": 16,
         "offsetgroup": "P9043",
         "opacity": 0.9,
         "orientation": "v",
         "showlegend": true,
         "texttemplate": "%{value}",
         "type": "histogram",
         "x": [
          371,
          365,
          350,
          344,
          330,
          323,
          319,
          304,
          304,
          250,
          250,
          242,
          237,
          225,
          211,
          204,
          183,
          392,
          392,
          392,
          392,
          392,
          392,
          392,
          392,
          392,
          392,
          392,
          392,
          392,
          392,
          392,
          392,
          392,
          392,
          392,
          392,
          392,
          392,
          392,
          392,
          392,
          392,
          389,
          389,
          389,
          389,
          389,
          389,
          389,
          389,
          341,
          341,
          341,
          341,
          341,
          338,
          333,
          330,
          329,
          329,
          325,
          305,
          303,
          303,
          303,
          296,
          290,
          284,
          283,
          225,
          220,
          220,
          220,
          220
         ],
         "xaxis": "x",
         "yaxis": "y"
        },
        {
         "alignmentgroup": "True",
         "bingroup": "x",
         "hovertemplate": "Field PO Vendor=P9016<br>elap_time_days=%{x}<br>count=%{y}<extra></extra>",
         "legendgroup": "P9016",
         "marker": {
          "color": "#FFA15A",
          "pattern": {
           "shape": ""
          }
         },
         "name": "P9016",
         "nbinsx": 16,
         "offsetgroup": "P9016",
         "opacity": 0.9,
         "orientation": "v",
         "showlegend": true,
         "texttemplate": "%{value}",
         "type": "histogram",
         "x": [
          364,
          344,
          336,
          336,
          336,
          335,
          331,
          309,
          309,
          309,
          303,
          303,
          303,
          303,
          294,
          275,
          275,
          275,
          275,
          267,
          267,
          247,
          247,
          247,
          247,
          247,
          247,
          247,
          247,
          246,
          246,
          245,
          245,
          245,
          245,
          245,
          219,
          219,
          216,
          216,
          216,
          216,
          216,
          216,
          216,
          216,
          216,
          216,
          216,
          216,
          216,
          216,
          216,
          216,
          216,
          216,
          216,
          216,
          216,
          216,
          216,
          216,
          216,
          216,
          216,
          213,
          213,
          212,
          209,
          209,
          209,
          209,
          205,
          205,
          205,
          205,
          189,
          189,
          189,
          189,
          189,
          189,
          189,
          189,
          189,
          189,
          189,
          189,
          189,
          189,
          189,
          189,
          189,
          189,
          189,
          189,
          189,
          189,
          189,
          189,
          189,
          189,
          189,
          189,
          189,
          189,
          189,
          189,
          189,
          189,
          189,
          189,
          189,
          189,
          189,
          189,
          189,
          189,
          189,
          189,
          189,
          319,
          299,
          299,
          256,
          238,
          213
         ],
         "xaxis": "x",
         "yaxis": "y"
        },
        {
         "alignmentgroup": "True",
         "bingroup": "x",
         "hovertemplate": "Field PO Vendor=P9017<br>elap_time_days=%{x}<br>count=%{y}<extra></extra>",
         "legendgroup": "P9017",
         "marker": {
          "color": "#19d3f3",
          "pattern": {
           "shape": ""
          }
         },
         "name": "P9017",
         "nbinsx": 16,
         "offsetgroup": "P9017",
         "opacity": 0.9,
         "orientation": "v",
         "showlegend": true,
         "texttemplate": "%{value}",
         "type": "histogram",
         "x": [
          249,
          275
         ],
         "xaxis": "x",
         "yaxis": "y"
        },
        {
         "alignmentgroup": "True",
         "bingroup": "x",
         "hovertemplate": "Field PO Vendor=P9015<br>elap_time_days=%{x}<br>count=%{y}<extra></extra>",
         "legendgroup": "P9015",
         "marker": {
          "color": "#FF6692",
          "pattern": {
           "shape": ""
          }
         },
         "name": "P9015",
         "nbinsx": 16,
         "offsetgroup": "P9015",
         "opacity": 0.9,
         "orientation": "v",
         "showlegend": true,
         "texttemplate": "%{value}",
         "type": "histogram",
         "x": [
          220,
          200,
          219
         ],
         "xaxis": "x",
         "yaxis": "y"
        },
        {
         "alignmentgroup": "True",
         "bingroup": "x",
         "hovertemplate": "Field PO Vendor=P9030<br>elap_time_days=%{x}<br>count=%{y}<extra></extra>",
         "legendgroup": "P9030",
         "marker": {
          "color": "#B6E880",
          "pattern": {
           "shape": ""
          }
         },
         "name": "P9030",
         "nbinsx": 16,
         "offsetgroup": "P9030",
         "opacity": 0.9,
         "orientation": "v",
         "showlegend": true,
         "texttemplate": "%{value}",
         "type": "histogram",
         "x": [
          216,
          189,
          189
         ],
         "xaxis": "x",
         "yaxis": "y"
        },
        {
         "alignmentgroup": "True",
         "bingroup": "x",
         "hovertemplate": "Field PO Vendor=P9545<br>elap_time_days=%{x}<br>count=%{y}<extra></extra>",
         "legendgroup": "P9545",
         "marker": {
          "color": "#FF97FF",
          "pattern": {
           "shape": ""
          }
         },
         "name": "P9545",
         "nbinsx": 16,
         "offsetgroup": "P9545",
         "opacity": 0.9,
         "orientation": "v",
         "showlegend": true,
         "texttemplate": "%{value}",
         "type": "histogram",
         "x": [
          361,
          290
         ],
         "xaxis": "x",
         "yaxis": "y"
        },
        {
         "alignmentgroup": "True",
         "bingroup": "x",
         "hovertemplate": "Field PO Vendor=P9513<br>elap_time_days=%{x}<br>count=%{y}<extra></extra>",
         "legendgroup": "P9513",
         "marker": {
          "color": "#FECB52",
          "pattern": {
           "shape": ""
          }
         },
         "name": "P9513",
         "nbinsx": 16,
         "offsetgroup": "P9513",
         "opacity": 0.9,
         "orientation": "v",
         "showlegend": true,
         "texttemplate": "%{value}",
         "type": "histogram",
         "x": [
          311,
          254,
          250,
          211,
          211,
          211,
          211,
          211,
          211,
          211,
          210,
          192
         ],
         "xaxis": "x",
         "yaxis": "y"
        }
       ],
       "layout": {
        "bargap": 0.08,
        "barmode": "relative",
        "legend": {
         "title": {
          "text": "Field PO Vendor"
         },
         "tracegroupgap": 0
        },
        "margin": {
         "t": 60
        },
        "template": {
         "data": {
          "bar": [
           {
            "error_x": {
             "color": "#2a3f5f"
            },
            "error_y": {
             "color": "#2a3f5f"
            },
            "marker": {
             "line": {
              "color": "#E5ECF6",
              "width": 0.5
             },
             "pattern": {
              "fillmode": "overlay",
              "size": 10,
              "solidity": 0.2
             }
            },
            "type": "bar"
           }
          ],
          "barpolar": [
           {
            "marker": {
             "line": {
              "color": "#E5ECF6",
              "width": 0.5
             },
             "pattern": {
              "fillmode": "overlay",
              "size": 10,
              "solidity": 0.2
             }
            },
            "type": "barpolar"
           }
          ],
          "carpet": [
           {
            "aaxis": {
             "endlinecolor": "#2a3f5f",
             "gridcolor": "white",
             "linecolor": "white",
             "minorgridcolor": "white",
             "startlinecolor": "#2a3f5f"
            },
            "baxis": {
             "endlinecolor": "#2a3f5f",
             "gridcolor": "white",
             "linecolor": "white",
             "minorgridcolor": "white",
             "startlinecolor": "#2a3f5f"
            },
            "type": "carpet"
           }
          ],
          "choropleth": [
           {
            "colorbar": {
             "outlinewidth": 0,
             "ticks": ""
            },
            "type": "choropleth"
           }
          ],
          "contour": [
           {
            "colorbar": {
             "outlinewidth": 0,
             "ticks": ""
            },
            "colorscale": [
             [
              0,
              "#0d0887"
             ],
             [
              0.1111111111111111,
              "#46039f"
             ],
             [
              0.2222222222222222,
              "#7201a8"
             ],
             [
              0.3333333333333333,
              "#9c179e"
             ],
             [
              0.4444444444444444,
              "#bd3786"
             ],
             [
              0.5555555555555556,
              "#d8576b"
             ],
             [
              0.6666666666666666,
              "#ed7953"
             ],
             [
              0.7777777777777778,
              "#fb9f3a"
             ],
             [
              0.8888888888888888,
              "#fdca26"
             ],
             [
              1,
              "#f0f921"
             ]
            ],
            "type": "contour"
           }
          ],
          "contourcarpet": [
           {
            "colorbar": {
             "outlinewidth": 0,
             "ticks": ""
            },
            "type": "contourcarpet"
           }
          ],
          "heatmap": [
           {
            "colorbar": {
             "outlinewidth": 0,
             "ticks": ""
            },
            "colorscale": [
             [
              0,
              "#0d0887"
             ],
             [
              0.1111111111111111,
              "#46039f"
             ],
             [
              0.2222222222222222,
              "#7201a8"
             ],
             [
              0.3333333333333333,
              "#9c179e"
             ],
             [
              0.4444444444444444,
              "#bd3786"
             ],
             [
              0.5555555555555556,
              "#d8576b"
             ],
             [
              0.6666666666666666,
              "#ed7953"
             ],
             [
              0.7777777777777778,
              "#fb9f3a"
             ],
             [
              0.8888888888888888,
              "#fdca26"
             ],
             [
              1,
              "#f0f921"
             ]
            ],
            "type": "heatmap"
           }
          ],
          "heatmapgl": [
           {
            "colorbar": {
             "outlinewidth": 0,
             "ticks": ""
            },
            "colorscale": [
             [
              0,
              "#0d0887"
             ],
             [
              0.1111111111111111,
              "#46039f"
             ],
             [
              0.2222222222222222,
              "#7201a8"
             ],
             [
              0.3333333333333333,
              "#9c179e"
             ],
             [
              0.4444444444444444,
              "#bd3786"
             ],
             [
              0.5555555555555556,
              "#d8576b"
             ],
             [
              0.6666666666666666,
              "#ed7953"
             ],
             [
              0.7777777777777778,
              "#fb9f3a"
             ],
             [
              0.8888888888888888,
              "#fdca26"
             ],
             [
              1,
              "#f0f921"
             ]
            ],
            "type": "heatmapgl"
           }
          ],
          "histogram": [
           {
            "marker": {
             "pattern": {
              "fillmode": "overlay",
              "size": 10,
              "solidity": 0.2
             }
            },
            "type": "histogram"
           }
          ],
          "histogram2d": [
           {
            "colorbar": {
             "outlinewidth": 0,
             "ticks": ""
            },
            "colorscale": [
             [
              0,
              "#0d0887"
             ],
             [
              0.1111111111111111,
              "#46039f"
             ],
             [
              0.2222222222222222,
              "#7201a8"
             ],
             [
              0.3333333333333333,
              "#9c179e"
             ],
             [
              0.4444444444444444,
              "#bd3786"
             ],
             [
              0.5555555555555556,
              "#d8576b"
             ],
             [
              0.6666666666666666,
              "#ed7953"
             ],
             [
              0.7777777777777778,
              "#fb9f3a"
             ],
             [
              0.8888888888888888,
              "#fdca26"
             ],
             [
              1,
              "#f0f921"
             ]
            ],
            "type": "histogram2d"
           }
          ],
          "histogram2dcontour": [
           {
            "colorbar": {
             "outlinewidth": 0,
             "ticks": ""
            },
            "colorscale": [
             [
              0,
              "#0d0887"
             ],
             [
              0.1111111111111111,
              "#46039f"
             ],
             [
              0.2222222222222222,
              "#7201a8"
             ],
             [
              0.3333333333333333,
              "#9c179e"
             ],
             [
              0.4444444444444444,
              "#bd3786"
             ],
             [
              0.5555555555555556,
              "#d8576b"
             ],
             [
              0.6666666666666666,
              "#ed7953"
             ],
             [
              0.7777777777777778,
              "#fb9f3a"
             ],
             [
              0.8888888888888888,
              "#fdca26"
             ],
             [
              1,
              "#f0f921"
             ]
            ],
            "type": "histogram2dcontour"
           }
          ],
          "mesh3d": [
           {
            "colorbar": {
             "outlinewidth": 0,
             "ticks": ""
            },
            "type": "mesh3d"
           }
          ],
          "parcoords": [
           {
            "line": {
             "colorbar": {
              "outlinewidth": 0,
              "ticks": ""
             }
            },
            "type": "parcoords"
           }
          ],
          "pie": [
           {
            "automargin": true,
            "type": "pie"
           }
          ],
          "scatter": [
           {
            "fillpattern": {
             "fillmode": "overlay",
             "size": 10,
             "solidity": 0.2
            },
            "type": "scatter"
           }
          ],
          "scatter3d": [
           {
            "line": {
             "colorbar": {
              "outlinewidth": 0,
              "ticks": ""
             }
            },
            "marker": {
             "colorbar": {
              "outlinewidth": 0,
              "ticks": ""
             }
            },
            "type": "scatter3d"
           }
          ],
          "scattercarpet": [
           {
            "marker": {
             "colorbar": {
              "outlinewidth": 0,
              "ticks": ""
             }
            },
            "type": "scattercarpet"
           }
          ],
          "scattergeo": [
           {
            "marker": {
             "colorbar": {
              "outlinewidth": 0,
              "ticks": ""
             }
            },
            "type": "scattergeo"
           }
          ],
          "scattergl": [
           {
            "marker": {
             "colorbar": {
              "outlinewidth": 0,
              "ticks": ""
             }
            },
            "type": "scattergl"
           }
          ],
          "scattermapbox": [
           {
            "marker": {
             "colorbar": {
              "outlinewidth": 0,
              "ticks": ""
             }
            },
            "type": "scattermapbox"
           }
          ],
          "scatterpolar": [
           {
            "marker": {
             "colorbar": {
              "outlinewidth": 0,
              "ticks": ""
             }
            },
            "type": "scatterpolar"
           }
          ],
          "scatterpolargl": [
           {
            "marker": {
             "colorbar": {
              "outlinewidth": 0,
              "ticks": ""
             }
            },
            "type": "scatterpolargl"
           }
          ],
          "scatterternary": [
           {
            "marker": {
             "colorbar": {
              "outlinewidth": 0,
              "ticks": ""
             }
            },
            "type": "scatterternary"
           }
          ],
          "surface": [
           {
            "colorbar": {
             "outlinewidth": 0,
             "ticks": ""
            },
            "colorscale": [
             [
              0,
              "#0d0887"
             ],
             [
              0.1111111111111111,
              "#46039f"
             ],
             [
              0.2222222222222222,
              "#7201a8"
             ],
             [
              0.3333333333333333,
              "#9c179e"
             ],
             [
              0.4444444444444444,
              "#bd3786"
             ],
             [
              0.5555555555555556,
              "#d8576b"
             ],
             [
              0.6666666666666666,
              "#ed7953"
             ],
             [
              0.7777777777777778,
              "#fb9f3a"
             ],
             [
              0.8888888888888888,
              "#fdca26"
             ],
             [
              1,
              "#f0f921"
             ]
            ],
            "type": "surface"
           }
          ],
          "table": [
           {
            "cells": {
             "fill": {
              "color": "#EBF0F8"
             },
             "line": {
              "color": "white"
             }
            },
            "header": {
             "fill": {
              "color": "#C8D4E3"
             },
             "line": {
              "color": "white"
             }
            },
            "type": "table"
           }
          ]
         },
         "layout": {
          "annotationdefaults": {
           "arrowcolor": "#2a3f5f",
           "arrowhead": 0,
           "arrowwidth": 1
          },
          "autotypenumbers": "strict",
          "coloraxis": {
           "colorbar": {
            "outlinewidth": 0,
            "ticks": ""
           }
          },
          "colorscale": {
           "diverging": [
            [
             0,
             "#8e0152"
            ],
            [
             0.1,
             "#c51b7d"
            ],
            [
             0.2,
             "#de77ae"
            ],
            [
             0.3,
             "#f1b6da"
            ],
            [
             0.4,
             "#fde0ef"
            ],
            [
             0.5,
             "#f7f7f7"
            ],
            [
             0.6,
             "#e6f5d0"
            ],
            [
             0.7,
             "#b8e186"
            ],
            [
             0.8,
             "#7fbc41"
            ],
            [
             0.9,
             "#4d9221"
            ],
            [
             1,
             "#276419"
            ]
           ],
           "sequential": [
            [
             0,
             "#0d0887"
            ],
            [
             0.1111111111111111,
             "#46039f"
            ],
            [
             0.2222222222222222,
             "#7201a8"
            ],
            [
             0.3333333333333333,
             "#9c179e"
            ],
            [
             0.4444444444444444,
             "#bd3786"
            ],
            [
             0.5555555555555556,
             "#d8576b"
            ],
            [
             0.6666666666666666,
             "#ed7953"
            ],
            [
             0.7777777777777778,
             "#fb9f3a"
            ],
            [
             0.8888888888888888,
             "#fdca26"
            ],
            [
             1,
             "#f0f921"
            ]
           ],
           "sequentialminus": [
            [
             0,
             "#0d0887"
            ],
            [
             0.1111111111111111,
             "#46039f"
            ],
            [
             0.2222222222222222,
             "#7201a8"
            ],
            [
             0.3333333333333333,
             "#9c179e"
            ],
            [
             0.4444444444444444,
             "#bd3786"
            ],
            [
             0.5555555555555556,
             "#d8576b"
            ],
            [
             0.6666666666666666,
             "#ed7953"
            ],
            [
             0.7777777777777778,
             "#fb9f3a"
            ],
            [
             0.8888888888888888,
             "#fdca26"
            ],
            [
             1,
             "#f0f921"
            ]
           ]
          },
          "colorway": [
           "#636efa",
           "#EF553B",
           "#00cc96",
           "#ab63fa",
           "#FFA15A",
           "#19d3f3",
           "#FF6692",
           "#B6E880",
           "#FF97FF",
           "#FECB52"
          ],
          "font": {
           "color": "#2a3f5f"
          },
          "geo": {
           "bgcolor": "white",
           "lakecolor": "white",
           "landcolor": "#E5ECF6",
           "showlakes": true,
           "showland": true,
           "subunitcolor": "white"
          },
          "hoverlabel": {
           "align": "left"
          },
          "hovermode": "closest",
          "mapbox": {
           "style": "light"
          },
          "paper_bgcolor": "white",
          "plot_bgcolor": "#E5ECF6",
          "polar": {
           "angularaxis": {
            "gridcolor": "white",
            "linecolor": "white",
            "ticks": ""
           },
           "bgcolor": "#E5ECF6",
           "radialaxis": {
            "gridcolor": "white",
            "linecolor": "white",
            "ticks": ""
           }
          },
          "scene": {
           "xaxis": {
            "backgroundcolor": "#E5ECF6",
            "gridcolor": "white",
            "gridwidth": 2,
            "linecolor": "white",
            "showbackground": true,
            "ticks": "",
            "zerolinecolor": "white"
           },
           "yaxis": {
            "backgroundcolor": "#E5ECF6",
            "gridcolor": "white",
            "gridwidth": 2,
            "linecolor": "white",
            "showbackground": true,
            "ticks": "",
            "zerolinecolor": "white"
           },
           "zaxis": {
            "backgroundcolor": "#E5ECF6",
            "gridcolor": "white",
            "gridwidth": 2,
            "linecolor": "white",
            "showbackground": true,
            "ticks": "",
            "zerolinecolor": "white"
           }
          },
          "shapedefaults": {
           "line": {
            "color": "#2a3f5f"
           }
          },
          "ternary": {
           "aaxis": {
            "gridcolor": "white",
            "linecolor": "white",
            "ticks": ""
           },
           "baxis": {
            "gridcolor": "white",
            "linecolor": "white",
            "ticks": ""
           },
           "bgcolor": "#E5ECF6",
           "caxis": {
            "gridcolor": "white",
            "linecolor": "white",
            "ticks": ""
           }
          },
          "title": {
           "x": 0.05
          },
          "xaxis": {
           "automargin": true,
           "gridcolor": "white",
           "linecolor": "white",
           "ticks": "",
           "title": {
            "standoff": 15
           },
           "zerolinecolor": "white",
           "zerolinewidth": 2
          },
          "yaxis": {
           "automargin": true,
           "gridcolor": "white",
           "linecolor": "white",
           "ticks": "",
           "title": {
            "standoff": 15
           },
           "zerolinecolor": "white",
           "zerolinewidth": 2
          }
         }
        },
        "title": {
         "text": "NO ETA OPEN ORDERS BY DAY RANGES"
        },
        "xaxis": {
         "anchor": "y",
         "domain": [
          0,
          1
         ],
         "title": {
          "text": "Elapsed_days"
         }
        },
        "yaxis": {
         "anchor": "x",
         "domain": [
          0,
          1
         ],
         "title": {
          "text": "Number_POs"
         }
        }
       }
      }
     },
     "metadata": {},
     "output_type": "display_data"
    }
   ],
   "source": [
    "delayed_POs = 180\n",
    "fig = px.histogram(POs_no_ETA[POs_no_ETA.elap_time_days > delayed_POs], x='elap_time_days', color='Field PO Vendor', nbins=16, text_auto=True)\n",
    "fig.update_traces(opacity=0.9)\n",
    "fig.update_layout(title_text='NO ETA OPEN ORDERS BY DAY RANGES', xaxis_title_text='Elapsed_days', yaxis_title_text='Number_POs', bargap=0.08)\n",
    "fig.show()"
   ]
  },
  {
   "cell_type": "markdown",
   "metadata": {},
   "source": [
    "### ETA POs"
   ]
  },
  {
   "cell_type": "code",
   "execution_count": 27,
   "metadata": {},
   "outputs": [],
   "source": [
    "ETA_POs = Gold_data.drop(['Field PO Request Date(RDD)','OBS Creation Date HUB', 'Field PO GR Date'], axis=1)\n",
    "ETA_POs = ETA_POs[(ETA_POs.ETA.notna())]\n",
    "ETA_POs = ETA_POs[ETA_POs['Field PO Date']> '2022-01-01']"
   ]
  },
  {
   "cell_type": "code",
   "execution_count": 28,
   "metadata": {},
   "outputs": [],
   "source": [
    "ETA_POs = ETA_POs[~(ETA_POs['ETA'] == datetime.strptime('00:00:00', '%H:%M:%S').time())]"
   ]
  },
  {
   "cell_type": "code",
   "execution_count": 29,
   "metadata": {},
   "outputs": [],
   "source": [
    "ETA_POs = ETA_POs[~(ETA_POs.ETA == '0-Jan-00')]"
   ]
  },
  {
   "cell_type": "code",
   "execution_count": 30,
   "metadata": {},
   "outputs": [],
   "source": [
    "ETA_POs.ETA = pd.to_datetime(ETA_POs.ETA)"
   ]
  },
  {
   "cell_type": "code",
   "execution_count": 31,
   "metadata": {},
   "outputs": [],
   "source": [
    "ETA_POs['time_ETA'] = ETA_POs.ETA - ETA_POs['Field PO Date']"
   ]
  },
  {
   "cell_type": "code",
   "execution_count": 32,
   "metadata": {},
   "outputs": [],
   "source": [
    "ETA_POs.time_ETA = ETA_POs.time_ETA.dt.days"
   ]
  },
  {
   "cell_type": "code",
   "execution_count": 33,
   "metadata": {},
   "outputs": [],
   "source": [
    "ETA_POs =  ETA_POs[ETA_POs.time_ETA > delayed_POs]"
   ]
  },
  {
   "cell_type": "code",
   "execution_count": 34,
   "metadata": {},
   "outputs": [
    {
     "data": {
      "image/png": "[encoded data removed]",
      "text/plain": [
       "<Figure size 1200x600 with 1 Axes>"
      ]
     },
     "metadata": {},
     "output_type": "display_data"
    }
   ],
   "source": [
    "sns.set_style('darkgrid')\n",
    "plt.figure(figsize=(12,6))\n",
    "sns.boxplot(y=ETA_POs['Field PO Vendor'], x=ETA_POs.time_ETA, linewidth=1, saturation=5)\n",
    "plt.ylabel(\"Vendors\")\n",
    "plt.xlabel(\"Days to ETA\")\n",
    "plt.xticks(fontsize=12)\n",
    "plt.yticks(fontsize=12)\n",
    "plt.show()"
   ]
  },
  {
   "attachments": {},
   "cell_type": "markdown",
   "metadata": {},
   "source": [
    "#### GRs, No_ETA, ETA POs Comparisson"
   ]
  },
  {
   "cell_type": "code",
   "execution_count": 35,
   "metadata": {},
   "outputs": [],
   "source": [
    "GRs = Gold_GRs.groupby(by='Field PO Vendor').mean()\n",
    "No_ETA = POs_no_ETA.groupby(by='Field PO Vendor').mean()\n",
    "ETA =  ETA_POs.groupby(by='Field PO Vendor').mean()"
   ]
  },
  {
   "cell_type": "code",
   "execution_count": 36,
   "metadata": {},
   "outputs": [],
   "source": [
    "AVG_POs_time = (GRs.reset_index().merge(No_ETA, how='inner', on='Field PO Vendor')).merge(ETA, how='inner', on='Field PO Vendor')"
   ]
  },
  {
   "cell_type": "code",
   "execution_count": 37,
   "metadata": {},
   "outputs": [
    {
     "data": {
      "image/png": "[encoded data removed]",
      "text/plain": [
       "<Figure size 2000x700 with 1 Axes>"
      ]
     },
     "metadata": {},
     "output_type": "display_data"
    }
   ],
   "source": [
    "plt.style.use('fivethirtyeight')\n",
    "AVG_POs_time.set_index('Field PO Vendor').plot(figsize=(20,7), kind='line',rot=90, use_index=True);"
   ]
  },
  {
   "cell_type": "code",
   "execution_count": 38,
   "metadata": {},
   "outputs": [
    {
     "data": {
      "text/html": [
       "<div>\n",
       "<style scoped>\n",
       "    .dataframe tbody tr th:only-of-type {\n",
       "        vertical-align: middle;\n",
       "    }\n",
       "\n",
       "    .dataframe tbody tr th {\n",
       "        vertical-align: top;\n",
       "    }\n",
       "\n",
       "    .dataframe thead th {\n",
       "        text-align: right;\n",
       "    }\n",
       "</style>\n",
       "<table border=\"1\" class=\"dataframe\">\n",
       "  <thead>\n",
       "    <tr style=\"text-align: right;\">\n",
       "      <th></th>\n",
       "      <th>Field Purchase Order</th>\n",
       "      <th>Field PO Item</th>\n",
       "      <th>Material Number</th>\n",
       "      <th>Field PO Vendor</th>\n",
       "      <th>HUB SO Process Class</th>\n",
       "      <th>Field PO Date</th>\n",
       "      <th>current_date</th>\n",
       "      <th>elapsed_time</th>\n",
       "      <th>elap_time_days</th>\n",
       "    </tr>\n",
       "  </thead>\n",
       "  <tbody>\n",
       "    <tr>\n",
       "      <th>1380</th>\n",
       "      <td>4581192386</td>\n",
       "      <td>1</td>\n",
       "      <td>415382000</td>\n",
       "      <td>P9024</td>\n",
       "      <td>BO</td>\n",
       "      <td>2022-01-14</td>\n",
       "      <td>2023-02-10</td>\n",
       "      <td>392 days</td>\n",
       "      <td>392</td>\n",
       "    </tr>\n",
       "    <tr>\n",
       "      <th>1465</th>\n",
       "      <td>4581202172</td>\n",
       "      <td>1</td>\n",
       "      <td>101548467</td>\n",
       "      <td>P9024</td>\n",
       "      <td>BO</td>\n",
       "      <td>2022-01-20</td>\n",
       "      <td>2023-02-10</td>\n",
       "      <td>386 days</td>\n",
       "      <td>386</td>\n",
       "    </tr>\n",
       "    <tr>\n",
       "      <th>1466</th>\n",
       "      <td>4581202172</td>\n",
       "      <td>2</td>\n",
       "      <td>101552049</td>\n",
       "      <td>P9024</td>\n",
       "      <td>BO</td>\n",
       "      <td>2022-01-20</td>\n",
       "      <td>2023-02-10</td>\n",
       "      <td>386 days</td>\n",
       "      <td>386</td>\n",
       "    </tr>\n",
       "    <tr>\n",
       "      <th>1474</th>\n",
       "      <td>4581210246</td>\n",
       "      <td>35</td>\n",
       "      <td>700.BV.523_GSE</td>\n",
       "      <td>P9024</td>\n",
       "      <td>BO</td>\n",
       "      <td>2022-01-25</td>\n",
       "      <td>2023-02-10</td>\n",
       "      <td>381 days</td>\n",
       "      <td>381</td>\n",
       "    </tr>\n",
       "    <tr>\n",
       "      <th>1496</th>\n",
       "      <td>4581223671</td>\n",
       "      <td>2</td>\n",
       "      <td>H304464</td>\n",
       "      <td>P9024</td>\n",
       "      <td>BO</td>\n",
       "      <td>2022-02-01</td>\n",
       "      <td>2023-02-10</td>\n",
       "      <td>374 days</td>\n",
       "      <td>374</td>\n",
       "    </tr>\n",
       "    <tr>\n",
       "      <th>...</th>\n",
       "      <td>...</td>\n",
       "      <td>...</td>\n",
       "      <td>...</td>\n",
       "      <td>...</td>\n",
       "      <td>...</td>\n",
       "      <td>...</td>\n",
       "      <td>...</td>\n",
       "      <td>...</td>\n",
       "      <td>...</td>\n",
       "    </tr>\n",
       "    <tr>\n",
       "      <th>11348</th>\n",
       "      <td>4791119554</td>\n",
       "      <td>1</td>\n",
       "      <td>102402495</td>\n",
       "      <td>P9024</td>\n",
       "      <td>BO</td>\n",
       "      <td>2022-06-19</td>\n",
       "      <td>2023-02-10</td>\n",
       "      <td>236 days</td>\n",
       "      <td>236</td>\n",
       "    </tr>\n",
       "    <tr>\n",
       "      <th>11349</th>\n",
       "      <td>4791119582</td>\n",
       "      <td>1</td>\n",
       "      <td>102402496</td>\n",
       "      <td>P9024</td>\n",
       "      <td>BO</td>\n",
       "      <td>2022-06-19</td>\n",
       "      <td>2023-02-10</td>\n",
       "      <td>236 days</td>\n",
       "      <td>236</td>\n",
       "    </tr>\n",
       "    <tr>\n",
       "      <th>11350</th>\n",
       "      <td>4791119585</td>\n",
       "      <td>1</td>\n",
       "      <td>102467333</td>\n",
       "      <td>P9024</td>\n",
       "      <td>BO</td>\n",
       "      <td>2022-06-19</td>\n",
       "      <td>2023-02-10</td>\n",
       "      <td>236 days</td>\n",
       "      <td>236</td>\n",
       "    </tr>\n",
       "    <tr>\n",
       "      <th>11351</th>\n",
       "      <td>4791119600</td>\n",
       "      <td>1</td>\n",
       "      <td>102402549</td>\n",
       "      <td>P9024</td>\n",
       "      <td>BO</td>\n",
       "      <td>2022-06-19</td>\n",
       "      <td>2023-02-10</td>\n",
       "      <td>236 days</td>\n",
       "      <td>236</td>\n",
       "    </tr>\n",
       "    <tr>\n",
       "      <th>11376</th>\n",
       "      <td>4791128459</td>\n",
       "      <td>1</td>\n",
       "      <td>T1057019</td>\n",
       "      <td>P9024</td>\n",
       "      <td>BO</td>\n",
       "      <td>2022-06-23</td>\n",
       "      <td>2023-02-10</td>\n",
       "      <td>232 days</td>\n",
       "      <td>232</td>\n",
       "    </tr>\n",
       "  </tbody>\n",
       "</table>\n",
       "<p>244 rows × 9 columns</p>\n",
       "</div>"
      ],
      "text/plain": [
       "      Field Purchase Order Field PO Item Material Number Field PO Vendor  \\\n",
       "1380            4581192386             1       415382000           P9024   \n",
       "1465            4581202172             1       101548467           P9024   \n",
       "1466            4581202172             2       101552049           P9024   \n",
       "1474            4581210246            35  700.BV.523_GSE           P9024   \n",
       "1496            4581223671             2         H304464           P9024   \n",
       "...                    ...           ...             ...             ...   \n",
       "11348           4791119554             1       102402495           P9024   \n",
       "11349           4791119582             1       102402496           P9024   \n",
       "11350           4791119585             1       102467333           P9024   \n",
       "11351           4791119600             1       102402549           P9024   \n",
       "11376           4791128459             1        T1057019           P9024   \n",
       "\n",
       "      HUB SO Process Class Field PO Date current_date elapsed_time  \\\n",
       "1380                    BO    2022-01-14   2023-02-10     392 days   \n",
       "1465                    BO    2022-01-20   2023-02-10     386 days   \n",
       "1466                    BO    2022-01-20   2023-02-10     386 days   \n",
       "1474                    BO    2022-01-25   2023-02-10     381 days   \n",
       "1496                    BO    2022-02-01   2023-02-10     374 days   \n",
       "...                    ...           ...          ...          ...   \n",
       "11348                   BO    2022-06-19   2023-02-10     236 days   \n",
       "11349                   BO    2022-06-19   2023-02-10     236 days   \n",
       "11350                   BO    2022-06-19   2023-02-10     236 days   \n",
       "11351                   BO    2022-06-19   2023-02-10     236 days   \n",
       "11376                   BO    2022-06-23   2023-02-10     232 days   \n",
       "\n",
       "       elap_time_days  \n",
       "1380              392  \n",
       "1465              386  \n",
       "1466              386  \n",
       "1474              381  \n",
       "1496              374  \n",
       "...               ...  \n",
       "11348             236  \n",
       "11349             236  \n",
       "11350             236  \n",
       "11351             236  \n",
       "11376             232  \n",
       "\n",
       "[244 rows x 9 columns]"
      ]
     },
     "execution_count": 38,
     "metadata": {},
     "output_type": "execute_result"
    }
   ],
   "source": [
    "POs_no_ETA[(POs_no_ETA['Field PO Vendor'] == 'P9024')][POs_no_ETA.elap_time_days > AVG_POs_time[AVG_POs_time['Field PO Vendor'] == 'P9024']['time_ETA'].values[0]]"
   ]
  },
  {
   "cell_type": "code",
   "execution_count": 63,
   "metadata": {},
   "outputs": [
    {
     "name": "stdout",
     "output_type": "stream",
     "text": [
      "<class 'pandas.core.frame.DataFrame'>\n",
      "Int64Index: 3735 entries, 0 to 12942\n",
      "Data columns (total 9 columns):\n",
      " #   Column                Non-Null Count  Dtype          \n",
      "---  ------                --------------  -----          \n",
      " 0   Field Purchase Order  3735 non-null   object         \n",
      " 1   Field PO Item         3735 non-null   object         \n",
      " 2   Material Number       3735 non-null   object         \n",
      " 3   Field PO Vendor       3734 non-null   object         \n",
      " 4   HUB SO Process Class  3735 non-null   object         \n",
      " 5   Field PO Date         3735 non-null   datetime64[ns] \n",
      " 6   current_date          3735 non-null   datetime64[ns] \n",
      " 7   elapsed_time          3735 non-null   timedelta64[ns]\n",
      " 8   elap_time_days        3735 non-null   int64          \n",
      "dtypes: datetime64[ns](2), int64(1), object(5), timedelta64[ns](1)\n",
      "memory usage: 291.8+ KB\n"
     ]
    }
   ],
   "source": [
    "POs_no_ETA.info()"
   ]
  }
 ],
 "metadata": {
  "kernelspec": {
   "display_name": "Python 3",
   "language": "python",
   "name": "python3"
  },
  "language_info": {
   "codemirror_mode": {
    "name": "ipython",
    "version": 3
   },
   "file_extension": ".py",
   "mimetype": "text/x-python",
   "name": "python",
   "nbconvert_exporter": "python",
   "pygments_lexer": "ipython3",
   "version": "3.9.12"
  },
  "orig_nbformat": 4,
  "vscode": {
   "interpreter": {
    "hash": "4ff442374353e7cd8d0b317b986b0b774c361b92b00d7ea43e4b1384f67d1c1b"
   }
  }
 },
 "nbformat": 4,
 "nbformat_minor": 2
}
